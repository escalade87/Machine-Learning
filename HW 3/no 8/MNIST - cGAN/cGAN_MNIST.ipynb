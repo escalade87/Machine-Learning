{
  "nbformat": 4,
  "nbformat_minor": 0,
  "metadata": {
    "colab": {
      "name": "cGAN_MNIST.ipynb",
      "provenance": []
    },
    "kernelspec": {
      "name": "python3",
      "display_name": "Python 3"
    }
  },
  "cells": [
    {
      "cell_type": "code",
      "metadata": {
        "id": "-ReJfHXEWIZM",
        "colab_type": "code",
        "outputId": "9eb8d417-691b-4c0b-c467-4777091137db",
        "colab": {
          "base_uri": "https://localhost:8080/",
          "height": 80
        }
      },
      "source": [
        "import os, time, itertools, imageio, pickle\n",
        "import numpy as np\n",
        "import matplotlib.pyplot as plt\n",
        "import tensorflow as tf\n",
        "from tensorflow.examples.tutorials.mnist import input_data"
      ],
      "execution_count": 1,
      "outputs": [
        {
          "output_type": "display_data",
          "data": {
            "text/html": [
              "<p style=\"color: red;\">\n",
              "The default version of TensorFlow in Colab will soon switch to TensorFlow 2.x.<br>\n",
              "We recommend you <a href=\"https://www.tensorflow.org/guide/migrate\" target=\"_blank\">upgrade</a> now \n",
              "or ensure your notebook will continue to use TensorFlow 1.x via the <code>%tensorflow_version 1.x</code> magic:\n",
              "<a href=\"https://colab.research.google.com/notebooks/tensorflow_version.ipynb\" target=\"_blank\">more info</a>.</p>\n"
            ],
            "text/plain": [
              "<IPython.core.display.HTML object>"
            ]
          },
          "metadata": {
            "tags": []
          }
        }
      ]
    },
    {
      "cell_type": "markdown",
      "metadata": {
        "id": "sf4rWvBtWMF6",
        "colab_type": "text"
      },
      "source": [
        "Leaky Relu Function"
      ]
    },
    {
      "cell_type": "code",
      "metadata": {
        "id": "R7INIrzAWPjB",
        "colab_type": "code",
        "colab": {}
      },
      "source": [
        "def lrelu(X, leak=0.2):\n",
        "    f1 = 0.5 * (1 + leak)\n",
        "    f2 = 0.5 * (1 - leak)\n",
        "    return f1 * X + f2 * tf.abs(X)"
      ],
      "execution_count": 0,
      "outputs": []
    },
    {
      "cell_type": "markdown",
      "metadata": {
        "id": "KddTYkCqWTo5",
        "colab_type": "text"
      },
      "source": [
        "Generator Function"
      ]
    },
    {
      "cell_type": "code",
      "metadata": {
        "id": "Yf2HypGQWV-f",
        "colab_type": "code",
        "colab": {}
      },
      "source": [
        "def generator(x, y, isTrain=True, reuse=False):\n",
        "    with tf.variable_scope('generator', reuse=reuse):\n",
        "        w_init = tf.contrib.layers.xavier_initializer()\n",
        "\n",
        "        cat1 = tf.concat([x, y], 1)\n",
        "\n",
        "        dense1 = tf.layers.dense(cat1, 128, kernel_initializer=w_init)\n",
        "        relu1 = tf.nn.relu(dense1)\n",
        "\n",
        "        dense2 = tf.layers.dense(relu1, 784, kernel_initializer=w_init)\n",
        "        o = tf.nn.tanh(dense2)\n",
        "\n",
        "        return o"
      ],
      "execution_count": 0,
      "outputs": []
    },
    {
      "cell_type": "markdown",
      "metadata": {
        "id": "yheSeqZ0WaLI",
        "colab_type": "text"
      },
      "source": [
        "Discriminator Function"
      ]
    },
    {
      "cell_type": "code",
      "metadata": {
        "id": "8oRkDfHCWcid",
        "colab_type": "code",
        "colab": {}
      },
      "source": [
        "def discriminator(x, y, isTrain=True, reuse=False):\n",
        "    with tf.variable_scope('discriminator', reuse=reuse):\n",
        "        w_init = tf.contrib.layers.xavier_initializer()\n",
        "\n",
        "        cat1 = tf.concat([x, y], 1)\n",
        "\n",
        "        dense1 = tf.layers.dense(cat1, 128, kernel_initializer=w_init)\n",
        "        lrelu1 = lrelu(dense1, 0.2)\n",
        "\n",
        "        dense2 = tf.layers.dense(lrelu1, 1, kernel_initializer=w_init)\n",
        "        o = tf.nn.sigmoid(dense2)\n",
        "\n",
        "        return o, dense2"
      ],
      "execution_count": 0,
      "outputs": []
    },
    {
      "cell_type": "markdown",
      "metadata": {
        "id": "EAkIKNIhXE49",
        "colab_type": "text"
      },
      "source": [
        "Label Preprocessing"
      ]
    },
    {
      "cell_type": "code",
      "metadata": {
        "id": "QyWSMsuEWqmI",
        "colab_type": "code",
        "colab": {}
      },
      "source": [
        "onehot = np.eye(10)\n",
        "\n",
        "temp_z_ = np.random.normal(0, 1, (10, 100))\n",
        "fixed_z_ = temp_z_\n",
        "fixed_y_ = np.zeros((10, 1))\n",
        "\n",
        "for i in range(9):\n",
        "    fixed_z_ = np.concatenate([fixed_z_, temp_z_], 0)\n",
        "    temp = np.ones((10,1)) + i\n",
        "    fixed_y_ = np.concatenate([fixed_y_, temp], 0)\n",
        "\n",
        "fixed_y_ = onehot[fixed_y_.astype(np.int32)].squeeze()"
      ],
      "execution_count": 0,
      "outputs": []
    },
    {
      "cell_type": "markdown",
      "metadata": {
        "id": "TXz8h7tOXKph",
        "colab_type": "text"
      },
      "source": [
        "Show Result & Show Train History Function"
      ]
    },
    {
      "cell_type": "code",
      "metadata": {
        "id": "nQxZqEQPWsCZ",
        "colab_type": "code",
        "colab": {}
      },
      "source": [
        "def show_result(num_epoch, show = False, save = False, path = 'result.png'):\n",
        "    test_images = sess.run(G_z, {z: fixed_z_, y: fixed_y_, isTrain: False})\n",
        "\n",
        "    size_figure_grid = 10\n",
        "    fig, ax = plt.subplots(size_figure_grid, size_figure_grid, figsize=(5, 5))\n",
        "    for i, j in itertools.product(range(size_figure_grid), range(size_figure_grid)):\n",
        "        ax[i, j].get_xaxis().set_visible(False)\n",
        "        ax[i, j].get_yaxis().set_visible(False)\n",
        "\n",
        "    for k in range(size_figure_grid*size_figure_grid):\n",
        "        i = k // size_figure_grid\n",
        "        j = k % size_figure_grid\n",
        "        ax[i, j].cla()\n",
        "        ax[i, j].imshow(np.reshape(test_images[k], (28, 28)), cmap='gray')\n",
        "\n",
        "    label = 'Epoch {0}'.format(num_epoch)\n",
        "    fig.text(0.5, 0.04, label, ha='center')\n",
        "\n",
        "    if save:\n",
        "        plt.savefig(path)\n",
        "\n",
        "    if show:\n",
        "        plt.show()\n",
        "    else:\n",
        "        plt.close()\n",
        "\n",
        "def show_train_hist(hist, show = False, save = False, path = 'Train_hist.png'):\n",
        "    x = range(len(hist['D_losses']))\n",
        "\n",
        "    y1 = hist['D_losses']\n",
        "    y2 = hist['G_losses']\n",
        "\n",
        "    plt.plot(x, y1, label='D_loss')\n",
        "    plt.plot(x, y2, label='G_loss')\n",
        "\n",
        "    plt.xlabel('Epoch')\n",
        "    plt.ylabel('Loss')\n",
        "\n",
        "    plt.legend(loc=4)\n",
        "    plt.grid(True)\n",
        "    plt.tight_layout()\n",
        "\n",
        "    if save:\n",
        "        plt.savefig(path)\n",
        "\n",
        "    if show:\n",
        "        plt.show()\n",
        "    else:\n",
        "        plt.close()"
      ],
      "execution_count": 0,
      "outputs": []
    },
    {
      "cell_type": "markdown",
      "metadata": {
        "id": "OVRqPnd1XVY4",
        "colab_type": "text"
      },
      "source": [
        "Initialization"
      ]
    },
    {
      "cell_type": "code",
      "metadata": {
        "id": "rgiEyCfkWwpI",
        "colab_type": "code",
        "outputId": "5c890719-a85f-4dae-e49c-da8dc60fdbb6",
        "colab": {
          "base_uri": "https://localhost:8080/",
          "height": 819
        }
      },
      "source": [
        "# training parameters\n",
        "batch_size = 100\n",
        "lr = 0.0002\n",
        "train_epoch = 100\n",
        "\n",
        "# load MNIST\n",
        "mnist = input_data.read_data_sets(\"MNIST_data/\", one_hot=True)\n",
        "train_set = (mnist.train.images - 0.5) / 0.5  # normalization; range: -1 ~ 1\n",
        "train_label = mnist.train.labels\n",
        "\n",
        "# variables : input\n",
        "x = tf.placeholder(tf.float32, shape=(None, 784))\n",
        "y = tf.placeholder(tf.float32, shape=(None, 10))\n",
        "z = tf.placeholder(tf.float32, shape=(None, 100))\n",
        "isTrain = tf.placeholder(dtype=tf.bool)\n",
        "\n",
        "# networks : generator\n",
        "G_z = generator(z, y, isTrain)\n",
        "\n",
        "# networks : discriminator\n",
        "D_real, D_real_logits = discriminator(x, y, isTrain)\n",
        "D_fake, D_fake_logits = discriminator(G_z, y, isTrain, reuse=True)\n",
        "\n",
        "# loss for each network\n",
        "D_loss_real = tf.reduce_mean(tf.nn.sigmoid_cross_entropy_with_logits(logits=D_real_logits, labels=tf.ones([batch_size, 1])))\n",
        "D_loss_fake = tf.reduce_mean(tf.nn.sigmoid_cross_entropy_with_logits(logits=D_fake_logits, labels=tf.zeros([batch_size, 1])))\n",
        "D_loss = D_loss_real + D_loss_fake\n",
        "G_loss = tf.reduce_mean(tf.nn.sigmoid_cross_entropy_with_logits(logits=D_fake_logits, labels=tf.ones([batch_size, 1])))\n",
        "\n",
        "# trainable variables for each network\n",
        "T_vars = tf.trainable_variables()\n",
        "D_vars = [var for var in T_vars if var.name.startswith('discriminator')]\n",
        "G_vars = [var for var in T_vars if var.name.startswith('generator')]\n",
        "\n",
        "# optimizer for each network\n",
        "with tf.control_dependencies(tf.get_collection(tf.GraphKeys.UPDATE_OPS)):\n",
        "    D_optim = tf.train.AdamOptimizer(lr, beta1=0.5).minimize(D_loss, var_list=D_vars)\n",
        "    G_optim = tf.train.AdamOptimizer(lr, beta1=0.5).minimize(G_loss, var_list=G_vars)\n",
        "\n",
        "# open session and initialize all variables\n",
        "sess = tf.InteractiveSession()\n",
        "tf.global_variables_initializer().run()\n",
        "\n",
        "# results save folder\n",
        "root = 'MNIST_cGAN_results/'\n",
        "model = 'MNIST_cGAN_'\n",
        "if not os.path.isdir(root):\n",
        "    os.mkdir(root)\n",
        "if not os.path.isdir(root + 'Fixed_results'):\n",
        "    os.mkdir(root + 'Fixed_results')\n",
        "\n",
        "train_hist = {}\n",
        "train_hist['D_losses'] = []\n",
        "train_hist['G_losses'] = []\n",
        "train_hist['per_epoch_ptimes'] = []\n",
        "train_hist['total_ptime'] = []"
      ],
      "execution_count": 7,
      "outputs": [
        {
          "output_type": "stream",
          "text": [
            "WARNING:tensorflow:From <ipython-input-7-90fcc5be2825>:6: read_data_sets (from tensorflow.contrib.learn.python.learn.datasets.mnist) is deprecated and will be removed in a future version.\n",
            "Instructions for updating:\n",
            "Please use alternatives such as official/mnist/dataset.py from tensorflow/models.\n",
            "WARNING:tensorflow:From /usr/local/lib/python3.6/dist-packages/tensorflow_core/contrib/learn/python/learn/datasets/mnist.py:260: maybe_download (from tensorflow.contrib.learn.python.learn.datasets.base) is deprecated and will be removed in a future version.\n",
            "Instructions for updating:\n",
            "Please write your own downloading logic.\n",
            "WARNING:tensorflow:From /usr/local/lib/python3.6/dist-packages/tensorflow_core/contrib/learn/python/learn/datasets/base.py:252: _internal_retry.<locals>.wrap.<locals>.wrapped_fn (from tensorflow.contrib.learn.python.learn.datasets.base) is deprecated and will be removed in a future version.\n",
            "Instructions for updating:\n",
            "Please use urllib or similar directly.\n",
            "Successfully downloaded train-images-idx3-ubyte.gz 9912422 bytes.\n",
            "WARNING:tensorflow:From /usr/local/lib/python3.6/dist-packages/tensorflow_core/contrib/learn/python/learn/datasets/mnist.py:262: extract_images (from tensorflow.contrib.learn.python.learn.datasets.mnist) is deprecated and will be removed in a future version.\n",
            "Instructions for updating:\n",
            "Please use tf.data to implement this functionality.\n",
            "Extracting MNIST_data/train-images-idx3-ubyte.gz\n",
            "Successfully downloaded train-labels-idx1-ubyte.gz 28881 bytes.\n",
            "WARNING:tensorflow:From /usr/local/lib/python3.6/dist-packages/tensorflow_core/contrib/learn/python/learn/datasets/mnist.py:267: extract_labels (from tensorflow.contrib.learn.python.learn.datasets.mnist) is deprecated and will be removed in a future version.\n",
            "Instructions for updating:\n",
            "Please use tf.data to implement this functionality.\n",
            "Extracting MNIST_data/train-labels-idx1-ubyte.gz\n",
            "WARNING:tensorflow:From /usr/local/lib/python3.6/dist-packages/tensorflow_core/contrib/learn/python/learn/datasets/mnist.py:110: dense_to_one_hot (from tensorflow.contrib.learn.python.learn.datasets.mnist) is deprecated and will be removed in a future version.\n",
            "Instructions for updating:\n",
            "Please use tf.one_hot on tensors.\n",
            "Successfully downloaded t10k-images-idx3-ubyte.gz 1648877 bytes.\n",
            "Extracting MNIST_data/t10k-images-idx3-ubyte.gz\n",
            "Successfully downloaded t10k-labels-idx1-ubyte.gz 4542 bytes.\n",
            "Extracting MNIST_data/t10k-labels-idx1-ubyte.gz\n",
            "WARNING:tensorflow:From /usr/local/lib/python3.6/dist-packages/tensorflow_core/contrib/learn/python/learn/datasets/mnist.py:290: DataSet.__init__ (from tensorflow.contrib.learn.python.learn.datasets.mnist) is deprecated and will be removed in a future version.\n",
            "Instructions for updating:\n",
            "Please use alternatives such as official/mnist/dataset.py from tensorflow/models.\n",
            "WARNING:tensorflow:\n",
            "The TensorFlow contrib module will not be included in TensorFlow 2.0.\n",
            "For more information, please see:\n",
            "  * https://github.com/tensorflow/community/blob/master/rfcs/20180907-contrib-sunset.md\n",
            "  * https://github.com/tensorflow/addons\n",
            "  * https://github.com/tensorflow/io (for I/O related ops)\n",
            "If you depend on functionality not listed there, please file an issue.\n",
            "\n",
            "WARNING:tensorflow:From <ipython-input-3-90aa7038956f>:7: dense (from tensorflow.python.layers.core) is deprecated and will be removed in a future version.\n",
            "Instructions for updating:\n",
            "Use keras.layers.Dense instead.\n",
            "WARNING:tensorflow:From /usr/local/lib/python3.6/dist-packages/tensorflow_core/python/layers/core.py:187: Layer.apply (from tensorflow.python.keras.engine.base_layer) is deprecated and will be removed in a future version.\n",
            "Instructions for updating:\n",
            "Please use `layer.__call__` method instead.\n",
            "WARNING:tensorflow:From /usr/local/lib/python3.6/dist-packages/tensorflow_core/python/ops/nn_impl.py:183: where (from tensorflow.python.ops.array_ops) is deprecated and will be removed in a future version.\n",
            "Instructions for updating:\n",
            "Use tf.where in 2.0, which has the same broadcast rule as np.where\n"
          ],
          "name": "stdout"
        }
      ]
    },
    {
      "cell_type": "markdown",
      "metadata": {
        "id": "30JlIOOQX76g",
        "colab_type": "text"
      },
      "source": [
        "Training part"
      ]
    },
    {
      "cell_type": "code",
      "metadata": {
        "id": "64fblud0XCTK",
        "colab_type": "code",
        "outputId": "33125312-e002-42ee-a538-05f79d894895",
        "colab": {
          "base_uri": "https://localhost:8080/",
          "height": 1000
        }
      },
      "source": [
        "# training-loop\n",
        "np.random.seed(int(time.time()))\n",
        "print('training start!')\n",
        "start_time = time.time()\n",
        "for epoch in range(train_epoch):\n",
        "    G_losses = []\n",
        "    D_losses = []\n",
        "    epoch_start_time = time.time()\n",
        "    for iter in range(len(train_set) // batch_size):\n",
        "        # update discriminator\n",
        "        x_ = train_set[iter * batch_size:(iter + 1) * batch_size]\n",
        "        y_ = train_label[iter * batch_size:(iter + 1) * batch_size]\n",
        "\n",
        "        z_ = np.random.normal(0, 1, (batch_size, 100))\n",
        "\n",
        "        loss_d_, _ = sess.run([D_loss, D_optim], {x: x_, y: y_, z: z_, isTrain: True})\n",
        "        D_losses.append(loss_d_)\n",
        "\n",
        "        # update generator\n",
        "        z_ = np.random.normal(0, 1, (batch_size, 100))\n",
        "        y_ = np.random.randint(0, 9, (batch_size, 1))\n",
        "        y_ = onehot[y_.astype(np.int32)].squeeze()\n",
        "        loss_g_, _ = sess.run([G_loss, G_optim], {z: z_, x: x_, y: y_, isTrain: True})\n",
        "        G_losses.append(loss_g_)\n",
        "\n",
        "    epoch_end_time = time.time()\n",
        "    per_epoch_ptime = epoch_end_time - epoch_start_time\n",
        "    print('[%d/%d] - ptime: %.2f loss_d: %.3f, loss_g: %.3f' % ((epoch + 1), train_epoch, per_epoch_ptime, np.mean(D_losses), np.mean(G_losses)))\n",
        "    fixed_p = root + 'Fixed_results/' + model + str(epoch + 1) + '.png'\n",
        "    show_result((epoch + 1), save=True, path=fixed_p)\n",
        "    train_hist['D_losses'].append(np.mean(D_losses))\n",
        "    train_hist['G_losses'].append(np.mean(G_losses))\n",
        "    train_hist['per_epoch_ptimes'].append(per_epoch_ptime)\n",
        "\n",
        "end_time = time.time()\n",
        "total_ptime = end_time - start_time\n",
        "train_hist['total_ptime'].append(total_ptime)\n",
        "\n",
        "print('Avg per epoch ptime: %.2f, total %d epochs ptime: %.2f' % (np.mean(train_hist['per_epoch_ptimes']), train_epoch, total_ptime))\n",
        "print(\"Training finish!... save training results\")\n",
        "with open(root + model + 'train_hist.pkl', 'wb') as f:\n",
        "    pickle.dump(train_hist, f)\n",
        "\n",
        "show_train_hist(train_hist, save=True, path=root + model + 'train_hist.png')\n",
        "\n",
        "images = []\n",
        "for e in range(train_epoch):\n",
        "    img_name = root + 'Fixed_results/' + model + str(e + 1) + '.png'\n",
        "    images.append(imageio.imread(img_name))\n",
        "imageio.mimsave(root + model + 'generation_animation.gif', images, fps=5)\n",
        "\n"
      ],
      "execution_count": 8,
      "outputs": [
        {
          "output_type": "stream",
          "text": [
            "training start!\n",
            "[1/100] - ptime: 7.57 loss_d: 0.881, loss_g: 0.958\n",
            "[2/100] - ptime: 7.11 loss_d: 1.065, loss_g: 1.085\n",
            "[3/100] - ptime: 6.99 loss_d: 1.025, loss_g: 1.206\n",
            "[4/100] - ptime: 7.22 loss_d: 1.055, loss_g: 1.167\n",
            "[5/100] - ptime: 8.41 loss_d: 0.961, loss_g: 1.269\n",
            "[7/100] - ptime: 7.90 loss_d: 1.050, loss_g: 1.214\n",
            "[8/100] - ptime: 7.51 loss_d: 1.018, loss_g: 1.261\n",
            "[9/100] - ptime: 7.36 loss_d: 0.961, loss_g: 1.351\n",
            "[10/100] - ptime: 7.35 loss_d: 0.973, loss_g: 1.369\n",
            "[11/100] - ptime: 7.50 loss_d: 0.987, loss_g: 1.326\n",
            "[12/100] - ptime: 7.40 loss_d: 1.036, loss_g: 1.327\n",
            "[13/100] - ptime: 7.22 loss_d: 0.978, loss_g: 1.385\n",
            "[14/100] - ptime: 7.50 loss_d: 0.868, loss_g: 1.559\n",
            "[15/100] - ptime: 7.37 loss_d: 0.849, loss_g: 1.580\n",
            "[16/100] - ptime: 7.42 loss_d: 0.720, loss_g: 1.771\n",
            "[17/100] - ptime: 7.24 loss_d: 0.720, loss_g: 1.795\n",
            "[18/100] - ptime: 7.37 loss_d: 0.656, loss_g: 1.931\n",
            "[19/100] - ptime: 7.41 loss_d: 0.726, loss_g: 1.831\n",
            "[20/100] - ptime: 7.47 loss_d: 0.797, loss_g: 1.780\n",
            "[21/100] - ptime: 7.49 loss_d: 0.816, loss_g: 1.741\n",
            "[22/100] - ptime: 7.59 loss_d: 0.797, loss_g: 1.710\n",
            "[23/100] - ptime: 7.53 loss_d: 0.820, loss_g: 1.717\n",
            "[24/100] - ptime: 7.57 loss_d: 0.832, loss_g: 1.604\n",
            "[25/100] - ptime: 7.57 loss_d: 0.797, loss_g: 1.627\n",
            "[26/100] - ptime: 7.74 loss_d: 0.845, loss_g: 1.583\n",
            "[27/100] - ptime: 7.74 loss_d: 0.826, loss_g: 1.574\n",
            "[28/100] - ptime: 7.97 loss_d: 0.860, loss_g: 1.545\n",
            "[29/100] - ptime: 7.70 loss_d: 0.878, loss_g: 1.533\n",
            "[30/100] - ptime: 7.87 loss_d: 0.869, loss_g: 1.519\n",
            "[31/100] - ptime: 7.60 loss_d: 0.867, loss_g: 1.549\n",
            "[32/100] - ptime: 7.69 loss_d: 0.913, loss_g: 1.523\n",
            "[33/100] - ptime: 7.69 loss_d: 0.957, loss_g: 1.464\n",
            "[34/100] - ptime: 7.61 loss_d: 0.966, loss_g: 1.443\n",
            "[35/100] - ptime: 7.60 loss_d: 1.001, loss_g: 1.412\n",
            "[36/100] - ptime: 7.02 loss_d: 1.017, loss_g: 1.346\n",
            "[37/100] - ptime: 6.97 loss_d: 1.037, loss_g: 1.316\n",
            "[38/100] - ptime: 6.93 loss_d: 1.040, loss_g: 1.301\n",
            "[39/100] - ptime: 6.98 loss_d: 1.053, loss_g: 1.289\n",
            "[40/100] - ptime: 6.91 loss_d: 1.077, loss_g: 1.230\n",
            "[41/100] - ptime: 7.01 loss_d: 1.067, loss_g: 1.226\n",
            "[42/100] - ptime: 7.03 loss_d: 1.117, loss_g: 1.163\n",
            "[43/100] - ptime: 7.01 loss_d: 1.094, loss_g: 1.195\n",
            "[44/100] - ptime: 6.99 loss_d: 1.096, loss_g: 1.179\n",
            "[45/100] - ptime: 7.05 loss_d: 1.084, loss_g: 1.176\n",
            "[46/100] - ptime: 7.05 loss_d: 1.102, loss_g: 1.157\n",
            "[47/100] - ptime: 7.06 loss_d: 1.099, loss_g: 1.149\n",
            "[48/100] - ptime: 7.02 loss_d: 1.081, loss_g: 1.172\n",
            "[49/100] - ptime: 7.03 loss_d: 1.079, loss_g: 1.168\n",
            "[50/100] - ptime: 7.03 loss_d: 1.086, loss_g: 1.150\n",
            "[51/100] - ptime: 7.15 loss_d: 1.105, loss_g: 1.135\n",
            "[52/100] - ptime: 7.05 loss_d: 1.112, loss_g: 1.122\n",
            "[53/100] - ptime: 7.09 loss_d: 1.122, loss_g: 1.114\n",
            "[54/100] - ptime: 7.42 loss_d: 1.110, loss_g: 1.113\n",
            "[55/100] - ptime: 7.46 loss_d: 1.099, loss_g: 1.133\n",
            "[56/100] - ptime: 6.97 loss_d: 1.091, loss_g: 1.128\n",
            "[57/100] - ptime: 7.01 loss_d: 1.084, loss_g: 1.131\n",
            "[58/100] - ptime: 7.04 loss_d: 1.081, loss_g: 1.142\n",
            "[59/100] - ptime: 7.04 loss_d: 1.081, loss_g: 1.156\n",
            "[60/100] - ptime: 7.03 loss_d: 1.066, loss_g: 1.153\n",
            "[61/100] - ptime: 7.02 loss_d: 1.059, loss_g: 1.157\n",
            "[62/100] - ptime: 7.11 loss_d: 1.057, loss_g: 1.156\n",
            "[63/100] - ptime: 7.04 loss_d: 1.065, loss_g: 1.159\n",
            "[64/100] - ptime: 7.05 loss_d: 1.075, loss_g: 1.143\n",
            "[65/100] - ptime: 7.02 loss_d: 1.090, loss_g: 1.132\n",
            "[66/100] - ptime: 7.01 loss_d: 1.093, loss_g: 1.108\n",
            "[67/100] - ptime: 7.11 loss_d: 1.103, loss_g: 1.122\n",
            "[68/100] - ptime: 7.16 loss_d: 1.115, loss_g: 1.114\n",
            "[69/100] - ptime: 7.04 loss_d: 1.120, loss_g: 1.101\n",
            "[70/100] - ptime: 7.02 loss_d: 1.119, loss_g: 1.091\n",
            "[71/100] - ptime: 6.98 loss_d: 1.117, loss_g: 1.088\n",
            "[72/100] - ptime: 6.97 loss_d: 1.118, loss_g: 1.079\n",
            "[73/100] - ptime: 7.04 loss_d: 1.114, loss_g: 1.080\n",
            "[74/100] - ptime: 6.94 loss_d: 1.121, loss_g: 1.077\n",
            "[75/100] - ptime: 6.98 loss_d: 1.121, loss_g: 1.068\n",
            "[76/100] - ptime: 6.95 loss_d: 1.127, loss_g: 1.068\n",
            "[77/100] - ptime: 6.97 loss_d: 1.130, loss_g: 1.059\n",
            "[78/100] - ptime: 7.00 loss_d: 1.137, loss_g: 1.060\n",
            "[79/100] - ptime: 7.02 loss_d: 1.132, loss_g: 1.068\n",
            "[80/100] - ptime: 7.06 loss_d: 1.126, loss_g: 1.067\n",
            "[81/100] - ptime: 7.26 loss_d: 1.127, loss_g: 1.065\n",
            "[82/100] - ptime: 7.41 loss_d: 1.134, loss_g: 1.054\n",
            "[83/100] - ptime: 7.06 loss_d: 1.137, loss_g: 1.057\n",
            "[84/100] - ptime: 7.09 loss_d: 1.123, loss_g: 1.058\n",
            "[85/100] - ptime: 6.94 loss_d: 1.122, loss_g: 1.057\n",
            "[86/100] - ptime: 7.12 loss_d: 1.127, loss_g: 1.053\n",
            "[87/100] - ptime: 7.03 loss_d: 1.127, loss_g: 1.047\n",
            "[88/100] - ptime: 7.01 loss_d: 1.126, loss_g: 1.048\n",
            "[89/100] - ptime: 7.12 loss_d: 1.122, loss_g: 1.053\n",
            "[90/100] - ptime: 7.04 loss_d: 1.120, loss_g: 1.054\n",
            "[91/100] - ptime: 7.01 loss_d: 1.116, loss_g: 1.055\n",
            "[92/100] - ptime: 7.02 loss_d: 1.117, loss_g: 1.061\n",
            "[93/100] - ptime: 6.95 loss_d: 1.119, loss_g: 1.059\n",
            "[94/100] - ptime: 6.98 loss_d: 1.125, loss_g: 1.047\n",
            "[95/100] - ptime: 6.98 loss_d: 1.124, loss_g: 1.057\n",
            "[96/100] - ptime: 7.02 loss_d: 1.129, loss_g: 1.044\n",
            "[97/100] - ptime: 7.04 loss_d: 1.132, loss_g: 1.047\n",
            "[98/100] - ptime: 7.36 loss_d: 1.135, loss_g: 1.034\n",
            "[99/100] - ptime: 7.28 loss_d: 1.154, loss_g: 1.032\n",
            "[100/100] - ptime: 7.20 loss_d: 1.144, loss_g: 1.036\n",
            "Avg per epoch ptime: 7.23, total 100 epochs ptime: 1142.93\n",
            "Training finish!... save training results\n"
          ],
          "name": "stdout"
        }
      ]
    },
    {
      "cell_type": "markdown",
      "metadata": {
        "id": "_c3tV9aW626s",
        "colab_type": "text"
      },
      "source": [
        "For saving model"
      ]
    },
    {
      "cell_type": "code",
      "metadata": {
        "id": "MwxRVYaafbbp",
        "colab_type": "code",
        "outputId": "76ff1632-bc6a-4fc0-da1b-b6fe78e1a0e7",
        "colab": {
          "base_uri": "https://localhost:8080/",
          "height": 34
        }
      },
      "source": [
        "saver = tf.train.Saver()\n",
        "saver.save(sess, 'MNIST_model')"
      ],
      "execution_count": 9,
      "outputs": [
        {
          "output_type": "execute_result",
          "data": {
            "text/plain": [
              "'MNIST_model'"
            ]
          },
          "metadata": {
            "tags": []
          },
          "execution_count": 9
        }
      ]
    },
    {
      "cell_type": "code",
      "metadata": {
        "id": "Pr2mbbkcgmx6",
        "colab_type": "code",
        "colab": {}
      },
      "source": [
        "sess.close()"
      ],
      "execution_count": 0,
      "outputs": []
    },
    {
      "cell_type": "markdown",
      "metadata": {
        "id": "hAzw-fnR68CD",
        "colab_type": "text"
      },
      "source": [
        "For loading model"
      ]
    },
    {
      "cell_type": "code",
      "metadata": {
        "id": "PwTqZJNW69mY",
        "colab_type": "code",
        "outputId": "8b2dfe9a-d7de-413a-9aec-d7f4b8e0ff9d",
        "colab": {
          "base_uri": "https://localhost:8080/",
          "height": 34
        }
      },
      "source": [
        "sess=tf.Session()    \n",
        "#First let's load meta graph and restore weights\n",
        "saver = tf.train.import_meta_graph('MNIST_model.meta')\n",
        "saver.restore(sess,tf.train.latest_checkpoint('./'))"
      ],
      "execution_count": 0,
      "outputs": [
        {
          "output_type": "stream",
          "text": [
            "INFO:tensorflow:Restoring parameters from ./MNIST_model\n"
          ],
          "name": "stdout"
        }
      ]
    },
    {
      "cell_type": "markdown",
      "metadata": {
        "id": "qnK-mPoKF1nD",
        "colab_type": "text"
      },
      "source": [
        "Code for create new images for inference"
      ]
    },
    {
      "cell_type": "code",
      "metadata": {
        "id": "PSl1_8FHD2Dj",
        "colab_type": "code",
        "colab": {}
      },
      "source": [
        "def save_new_images():\n",
        "    path='new_images.png'\n",
        "    temp_z_new = np.random.normal(0, 1, (10, 100))\n",
        "    fixed_z_new = temp_z_new\n",
        "    fixed_y_new = np.zeros((10, 1))\n",
        "\n",
        "    for i in range(9):\n",
        "      fixed_z_new = np.concatenate([fixed_z_new, temp_z_new], 0)\n",
        "      temp = np.ones((10,1)) + i\n",
        "      fixed_y_new = np.concatenate([fixed_y_new, temp], 0)\n",
        "\n",
        "   \n",
        "\n",
        "    fixed_y_new = onehot[fixed_y_new.astype(np.int32)].squeeze()  \n",
        "    test_images = sess.run(G_z, {z: fixed_z_new, y: fixed_y_new, isTrain: False})\n",
        "\n",
        "    size_figure_grid = 10\n",
        "    fig, ax = plt.subplots(size_figure_grid, size_figure_grid, figsize=(5, 5))\n",
        "    for i, j in itertools.product(range(size_figure_grid), range(size_figure_grid)):\n",
        "        ax[i, j].get_xaxis().set_visible(False)\n",
        "        ax[i, j].get_yaxis().set_visible(False)\n",
        "\n",
        "    for k in range(size_figure_grid*size_figure_grid):\n",
        "        i = k // size_figure_grid\n",
        "        j = k % size_figure_grid\n",
        "        ax[i, j].cla()\n",
        "        ax[i, j].imshow(np.reshape(test_images[k], (28, 28)), cmap='gray')\n",
        "\n",
        "    label = 'New Images'\n",
        "    fig.text(0.5, 0.04, label, ha='center')\n",
        "\n",
        "    plt.savefig(path)\n",
        "\n",
        "    plt.show()\n",
        "   "
      ],
      "execution_count": 0,
      "outputs": []
    },
    {
      "cell_type": "code",
      "metadata": {
        "id": "9h-TffhSMPG8",
        "colab_type": "code",
        "outputId": "30d42daf-f976-4619-984d-af849d029143",
        "colab": {
          "base_uri": "https://localhost:8080/",
          "height": 335
        }
      },
      "source": [
        "save_new_images()"
      ],
      "execution_count": 12,
      "outputs": [
        {
          "output_type": "display_data",
          "data": {
            "image/png": "[encoded data removed]",
            "text/plain": [
              "<Figure size 360x360 with 100 Axes>"
            ]
          },
          "metadata": {
            "tags": []
          }
        }
      ]
    }
  ]
}