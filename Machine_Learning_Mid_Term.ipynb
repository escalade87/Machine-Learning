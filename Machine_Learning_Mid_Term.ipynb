{
  "nbformat": 4,
  "nbformat_minor": 0,
  "metadata": {
    "colab": {
      "name": "Machine Learning Mid Term.ipynb",
      "provenance": [],
      "collapsed_sections": []
    },
    "kernelspec": {
      "name": "python3",
      "display_name": "Python 3"
    },
    "accelerator": "GPU"
  },
  "cells": [
    {
      "cell_type": "code",
      "metadata": {
        "id": "i93oYw_7nIBM",
        "colab_type": "code",
        "colab": {
          "base_uri": "https://localhost:8080/",
          "height": 63
        },
        "outputId": "c9591414-728b-4437-b399-f0be7403ab20"
      },
      "source": [
        "import numpy as np\n",
        "from tensorflow import keras\n",
        "import tensorflow as tf\n",
        "import matplotlib.pyplot as plt\n",
        "\n",
        "import time  # To time each epoch\n",
        "\n",
        "# Needed to download Fashion-MNIST (FMNIST) dataset without much hassle.\n",
        "from tensorflow.keras import datasets\n"
      ],
      "execution_count": 2,
      "outputs": [
        {
          "output_type": "display_data",
          "data": {
            "text/html": [
              "<p style=\"color: red;\">\n",
              "The default version of TensorFlow in Colab will soon switch to TensorFlow 2.x.<br>\n",
              "We recommend you <a href=\"https://www.tensorflow.org/guide/migrate\" target=\"_blank\">upgrade</a> now \n",
              "or ensure your notebook will continue to use TensorFlow 1.x via the <code>%tensorflow_version 1.x</code> magic:\n",
              "<a href=\"https://colab.research.google.com/notebooks/tensorflow_version.ipynb\" target=\"_blank\">more info</a>.</p>\n"
            ],
            "text/plain": [
              "<IPython.core.display.HTML object>"
            ]
          },
          "metadata": {
            "tags": []
          }
        }
      ]
    },
    {
      "cell_type": "code",
      "metadata": {
        "id": "nJ1ONcL-mNLz",
        "colab_type": "code",
        "colab": {}
      },
      "source": [
        "def check_image(train_images, train_labels,test_images, test_labels):\n",
        "  # Class names (needed only for illustration purposes)\n",
        "  class_names = ['T-shirt/top', 'Trouser', 'Pullover', 'Dress',\n",
        "               'Coat', 'Sandal', 'Shirt', 'Sneaker', 'Bag', 'Ankle boot']\n",
        "\n",
        "  # Display information about the dataset\n",
        "  print(\"Training Data ::: Images Shape: {}, Labels Shape: {}\".format(\n",
        "      train_images.shape, train_labels.shape))\n",
        "  print(\"Test Data ::: Images Shape: {}, Labels Shape: {}\".format(\n",
        "      test_images.shape, test_labels.shape))\n",
        "  print(\"Checking random 25 images from the Training Data:\")\n",
        "  plt.figure(figsize=(10, 10))\n",
        "  for i in range(25):\n",
        "      rand_image_idx = np.random.randint(0, train_labels.shape[0])\n",
        "      plt.subplot(5, 5, i+1)\n",
        "      plt.xticks([])\n",
        "      plt.yticks([])\n",
        "      plt.grid('off')\n",
        "      plt.imshow(train_images[rand_image_idx], cmap=plt.cm.binary)\n",
        "      plt.xlabel(class_names[train_labels[rand_image_idx]])\n",
        "  plt.show()"
      ],
      "execution_count": 0,
      "outputs": []
    },
    {
      "cell_type": "code",
      "metadata": {
        "id": "UY7cp7cVUPBc",
        "colab_type": "code",
        "colab": {}
      },
      "source": [
        "def get_fashion_MNIST_data():\n",
        "    train_data, test_data = datasets.fashion_mnist.load_data()  # Download FMNIST\n",
        "    train_images, train_labels = train_data\n",
        "    test_images, test_labels = test_data\n",
        "    \n",
        "    train_data_mean = np.mean(train_data[0])\n",
        "    train_data_stdev = np.std(train_data[0])\n",
        "    train_data = ((train_data[0] - train_data_mean) /\n",
        "                  train_data_stdev, train_data[1])\n",
        "    test_data = ((test_data[0] - train_data_mean) /\n",
        "                 train_data_stdev, test_data[1])\n",
        "\n",
        "    return train_data, test_data"
      ],
      "execution_count": 0,
      "outputs": []
    },
    {
      "cell_type": "code",
      "metadata": {
        "id": "9ceSq4MSLASX",
        "colab_type": "code",
        "colab": {
          "base_uri": "https://localhost:8080/",
          "height": 153
        },
        "outputId": "ab9ee158-242e-4701-b280-360514fcaca1"
      },
      "source": [
        "train_data, test_data = get_fashion_MNIST_data()\n",
        "\n",
        "# Split dataset into images and labels\n",
        "train_images, train_labels = train_data\n",
        "test_images, test_labels = test_data\n",
        "#check_image(train_images, train_labels,test_images, test_labels)"
      ],
      "execution_count": 3,
      "outputs": [
        {
          "output_type": "stream",
          "text": [
            "Downloading data from https://storage.googleapis.com/tensorflow/tf-keras-datasets/train-labels-idx1-ubyte.gz\n",
            "32768/29515 [=================================] - 0s 0us/step\n",
            "Downloading data from https://storage.googleapis.com/tensorflow/tf-keras-datasets/train-images-idx3-ubyte.gz\n",
            "26427392/26421880 [==============================] - 0s 0us/step\n",
            "Downloading data from https://storage.googleapis.com/tensorflow/tf-keras-datasets/t10k-labels-idx1-ubyte.gz\n",
            "8192/5148 [===============================================] - 0s 0us/step\n",
            "Downloading data from https://storage.googleapis.com/tensorflow/tf-keras-datasets/t10k-images-idx3-ubyte.gz\n",
            "4423680/4422102 [==============================] - 0s 0us/step\n"
          ],
          "name": "stdout"
        }
      ]
    },
    {
      "cell_type": "markdown",
      "metadata": {
        "id": "VMWpmoAxYhFz",
        "colab_type": "text"
      },
      "source": [
        "**Create CNN Model :**\n",
        "\n",
        "\n"
      ]
    },
    {
      "cell_type": "code",
      "metadata": {
        "id": "z8s0Ir4caDNg",
        "colab_type": "code",
        "colab": {
          "base_uri": "https://localhost:8080/",
          "height": 391
        },
        "outputId": "3ea5022f-4a38-47c1-8b7a-05adde8860f7"
      },
      "source": [
        "#Model Without hidden layer\n",
        "model = keras.Sequential([\n",
        "    keras.layers.Flatten(input_shape=(28, 28)),    \n",
        "    keras.layers.Dense(10, activation='softmax', kernel_initializer='glorot_uniform')\n",
        "])\n",
        "\n",
        "model.compile(optimizer='rmsprop',\n",
        "              loss='sparse_categorical_crossentropy',\n",
        "              metrics=['accuracy'])\n",
        "model.fit(train_images, train_labels, epochs=10)"
      ],
      "execution_count": 48,
      "outputs": [
        {
          "output_type": "stream",
          "text": [
            "Train on 60000 samples\n",
            "Epoch 1/10\n",
            "60000/60000 [==============================] - 5s 89us/sample - loss: 0.5364 - acc: 0.8119\n",
            "Epoch 2/10\n",
            "60000/60000 [==============================] - 5s 90us/sample - loss: 0.4571 - acc: 0.8414\n",
            "Epoch 3/10\n",
            "60000/60000 [==============================] - 5s 86us/sample - loss: 0.4435 - acc: 0.8460\n",
            "Epoch 4/10\n",
            "60000/60000 [==============================] - 5s 87us/sample - loss: 0.4338 - acc: 0.8504\n",
            "Epoch 5/10\n",
            "60000/60000 [==============================] - 5s 88us/sample - loss: 0.4281 - acc: 0.8513\n",
            "Epoch 6/10\n",
            "60000/60000 [==============================] - 5s 87us/sample - loss: 0.4238 - acc: 0.8529\n",
            "Epoch 7/10\n",
            "60000/60000 [==============================] - 5s 87us/sample - loss: 0.4208 - acc: 0.8540\n",
            "Epoch 8/10\n",
            "60000/60000 [==============================] - 5s 88us/sample - loss: 0.4167 - acc: 0.8546\n",
            "Epoch 9/10\n",
            "60000/60000 [==============================] - 5s 87us/sample - loss: 0.4158 - acc: 0.8570\n",
            "Epoch 10/10\n",
            "60000/60000 [==============================] - 5s 87us/sample - loss: 0.4123 - acc: 0.8555\n"
          ],
          "name": "stdout"
        },
        {
          "output_type": "execute_result",
          "data": {
            "text/plain": [
              "<tensorflow.python.keras.callbacks.History at 0x7fd7532b49b0>"
            ]
          },
          "metadata": {
            "tags": []
          },
          "execution_count": 48
        }
      ]
    },
    {
      "cell_type": "code",
      "metadata": {
        "colab_type": "code",
        "outputId": "2cbc29ca-ce31-49a3-9835-389d2b38bc7e",
        "id": "dWXNA8W1n-rL",
        "colab": {
          "base_uri": "https://localhost:8080/",
          "height": 51
        }
      },
      "source": [
        "# Code for testing model without hidden layer\n",
        "# Evaluate the model on test set\n",
        "score = model.evaluate(test_images, test_labels, verbose=0)\n",
        "# Print test accuracy\n",
        "print('\\n', 'Test accuracy:', score[1])"
      ],
      "execution_count": 0,
      "outputs": [
        {
          "output_type": "stream",
          "text": [
            "\n",
            " Test accuracy: 0.9064\n"
          ],
          "name": "stdout"
        }
      ]
    },
    {
      "cell_type": "code",
      "metadata": {
        "id": "8quXEf9UoJK9",
        "colab_type": "code",
        "colab": {
          "base_uri": "https://localhost:8080/",
          "height": 391
        },
        "outputId": "dab8e195-28e5-4a01-de65-fec899fdcadc"
      },
      "source": [
        "#Model With Convolutional Layer\n",
        "x_train = train_images.reshape(train_images.shape[0], 28, 28, 1)\n",
        "model = keras.Sequential([\n",
        "    keras.layers.Conv2D(32, (3, 3), activation='relu', kernel_initializer='glorot_uniform', input_shape=(28, 28, 1)),\n",
        "    keras.layers.MaxPooling2D((2, 2)),\n",
        "    keras.layers.Flatten(),\n",
        "    keras.layers.Dense(10, activation='softmax')\n",
        "])\n",
        "#, kernel_regularizer=keras.regularizers.l2(0.01) to use this l2 regularizer just copy it into conv2d\n",
        "#keras.layer.Dropout(0.3), to use dropout copy it after max pooling 2D\n",
        "model.compile(optimizer='adam',\n",
        "              loss='sparse_categorical_crossentropy',\n",
        "              metrics=['accuracy'])\n",
        "model.fit(x_train, train_labels, epochs=10)"
      ],
      "execution_count": 98,
      "outputs": [
        {
          "output_type": "stream",
          "text": [
            "Train on 60000 samples\n",
            "Epoch 1/10\n",
            "60000/60000 [==============================] - 9s 143us/sample - loss: 0.4226 - acc: 0.8599\n",
            "Epoch 2/10\n",
            "60000/60000 [==============================] - 8s 139us/sample - loss: 0.3192 - acc: 0.8962\n",
            "Epoch 3/10\n",
            "60000/60000 [==============================] - 8s 139us/sample - loss: 0.2916 - acc: 0.9043\n",
            "Epoch 4/10\n",
            "60000/60000 [==============================] - 8s 139us/sample - loss: 0.2722 - acc: 0.9100\n",
            "Epoch 5/10\n",
            "60000/60000 [==============================] - 9s 142us/sample - loss: 0.2563 - acc: 0.9164\n",
            "Epoch 6/10\n",
            "60000/60000 [==============================] - 8s 138us/sample - loss: 0.2439 - acc: 0.9201\n",
            "Epoch 7/10\n",
            "60000/60000 [==============================] - 8s 138us/sample - loss: 0.2336 - acc: 0.9252\n",
            "Epoch 8/10\n",
            "60000/60000 [==============================] - 8s 139us/sample - loss: 0.2268 - acc: 0.9260\n",
            "Epoch 9/10\n",
            "60000/60000 [==============================] - 8s 137us/sample - loss: 0.2187 - acc: 0.9297\n",
            "Epoch 10/10\n",
            "60000/60000 [==============================] - 8s 138us/sample - loss: 0.2128 - acc: 0.9322\n"
          ],
          "name": "stdout"
        },
        {
          "output_type": "execute_result",
          "data": {
            "text/plain": [
              "<tensorflow.python.keras.callbacks.History at 0x7fd751e3c048>"
            ]
          },
          "metadata": {
            "tags": []
          },
          "execution_count": 98
        }
      ]
    },
    {
      "cell_type": "code",
      "metadata": {
        "id": "-Fgg3WyEC02e",
        "colab_type": "code",
        "colab": {
          "base_uri": "https://localhost:8080/",
          "height": 51
        },
        "outputId": "2cbc29ca-ce31-49a3-9835-389d2b38bc7e"
      },
      "source": [
        "# Code for testing model with convolutional layer\n",
        "x_test = test_images.reshape(test_images.shape[0], 28, 28, 1)\n",
        "# Evaluate the model on test set\n",
        "score = model.evaluate(x_test, test_labels, verbose=0)\n",
        "# Print test accuracy\n",
        "print('\\n', 'Test accuracy:', score[1])"
      ],
      "execution_count": 99,
      "outputs": [
        {
          "output_type": "stream",
          "text": [
            "\n",
            " Test accuracy: 0.9064\n"
          ],
          "name": "stdout"
        }
      ]
    },
    {
      "cell_type": "code",
      "metadata": {
        "id": "nMgy3Y2IbCUr",
        "colab_type": "code",
        "colab": {}
      },
      "source": [
        "def save_model(model, model_name):\n",
        "  model.save(model_name+'.h5')\n",
        "  \n",
        "save_model(model, \"final_model\")"
      ],
      "execution_count": 0,
      "outputs": []
    },
    {
      "cell_type": "code",
      "metadata": {
        "id": "3ApJ_mOCnZqn",
        "colab_type": "code",
        "colab": {}
      },
      "source": [
        "# make a prediction for a new image.\n",
        "from keras.preprocessing.image import load_img\n",
        "from keras.preprocessing.image import img_to_array\n",
        "from keras.models import load_model\n",
        "\n",
        "# load and prepare the image\n",
        "def load_image(filename):\n",
        "\t# load the image\n",
        "\timg = load_img(filename, grayscale=True, target_size=(28, 28))\n",
        "\t# convert to array\n",
        "\timg = img_to_array(img)\n",
        "\t# reshape into a single sample with 1 channel\n",
        "\timg = img.reshape(1, 28, 28, 1)\n",
        "\t# prepare pixel data\n",
        "\timg = img.astype('float32')\n",
        "\timg = img / 255.0\n",
        "\treturn img\n",
        "\n",
        "# load an image and predict the class\n",
        "def run_example():\n",
        "\t# load the image\n",
        "\timg = load_image('sample_image.png')\n",
        "\t# load model\n",
        "\tmodel = load_model('final_model.h5')\n",
        "\t# predict the class\n",
        "\tresult = model.predict_classes(img)\n",
        "\tprint(result[0])\n",
        "\n",
        "# entry point, run the example\n",
        "run_example()"
      ],
      "execution_count": 0,
      "outputs": []
    }
  ]
}